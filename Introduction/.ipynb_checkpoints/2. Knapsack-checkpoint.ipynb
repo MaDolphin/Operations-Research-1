{
 "cells": [
  {
   "cell_type": "markdown",
   "metadata": {},
   "source": [
    "# The Knapsack Problem"
   ]
  },
  {
   "cell_type": "markdown",
   "metadata": {},
   "source": [
    "You can run a cell either by clicking `Run` on the toolbar or by pressing `CTRL+RETURN`. Pressing `SHIFT+RETURN` will run the cell and move the pointer to the next one. For a complete list of keyboard shortcuts press `H`."
   ]
  },
  {
   "cell_type": "markdown",
   "metadata": {},
   "source": [
    "## Introduction"
   ]
  },
  {
   "cell_type": "markdown",
   "metadata": {},
   "source": [
    "In this Jupyter notebook we are going to model the 0-1 knapsack problem together. We will use visualizations extencively to make sure that you can easily follow the process. We encourage you to also use visualizations when you are working alone.  \n",
    "Now, let us define the problem."
   ]
  },
  {
   "cell_type": "markdown",
   "metadata": {},
   "source": [
    "We are given a knapsack with capacity $b$ as well as $n$ items of size $a_i$ and profit $p_i, i \\in \\{1, \\ldots ,n\\}$.  \n",
    "Our task is to *maximize* the total profit of the items that we decide to pack into the knapsack while respecting its capacity."
   ]
  },
  {
   "cell_type": "markdown",
   "metadata": {},
   "source": [
    "Run the cell below to import all the necessary libraries. In this case we import `Gurobi` and `matplotlib`. The second library will be used for plotting a couple of graphs later."
   ]
  },
  {
   "cell_type": "code",
   "execution_count": 1,
   "metadata": {},
   "outputs": [],
   "source": [
    "from gurobipy import *\n",
    "import matplotlib.pyplot as plt\n",
    "\n",
    "# Enable high resolution plots\n",
    "from IPython.display import set_matplotlib_formats\n",
    "set_matplotlib_formats('retina')"
   ]
  },
  {
   "cell_type": "markdown",
   "metadata": {},
   "source": [
    "## Data"
   ]
  },
  {
   "cell_type": "markdown",
   "metadata": {},
   "source": [
    "Below you will find the data supplied by your professor/manager/friend/etc.  \n",
    "The following data is available to you:  \n",
    "`b`: the capacity of the knapsack  \n",
    "`n`: the number of items  \n",
    "`a`: a list containing the sizes of the items  \n",
    "`p`: a list containing the profits of the items  \n",
    "`items`: for your convenience, a list of item \"names\"; in our case $\\{0,\\ldots,n-1\\}$"
   ]
  },
  {
   "cell_type": "code",
   "execution_count": 2,
   "metadata": {},
   "outputs": [
    {
     "name": "stdout",
     "output_type": "stream",
     "text": [
      "We are given 12 items. The capacity of the knapsack is 40.\n"
     ]
    }
   ],
   "source": [
    "b = 40\n",
    "a = [3, 6, 3, 2, 3, 3, 9, 12, 5, 3, 8, 1]\n",
    "p = [4, 5, 3, 5, 5, 1, 12, 20, 9, 3, 10, -1]\n",
    "assert len(a) == len(p), \"The lists a and p need to have equal length\"\n",
    "n = len(a)\n",
    "items = range(n)\n",
    "\n",
    "print(f'We are given {n} items. The capacity of the knapsack is {b}.')"
   ]
  },
  {
   "cell_type": "markdown",
   "metadata": {},
   "source": [
    "## Model"
   ]
  },
  {
   "cell_type": "markdown",
   "metadata": {},
   "source": [
    "We start off by creating an empty model `m`.<br>\n",
    "Reference: [Model()](https://www.gurobi.com/documentation/9.0/refman/py_model2.html)"
   ]
  },
  {
   "cell_type": "code",
   "execution_count": 3,
   "metadata": {},
   "outputs": [
    {
     "name": "stdout",
     "output_type": "stream",
     "text": [
      "Using license file /Users/hhk/gurobi.lic\n",
      "Academic license - for non-commercial use only\n"
     ]
    }
   ],
   "source": [
    "m = Model('knapsack')"
   ]
  },
  {
   "cell_type": "markdown",
   "metadata": {},
   "source": [
    "Then we add the necessary variables.  \n",
    "In our case, we will need $n$ binary variables. The variables, let us call them $x_i$, will depict whether the item $i\\in \\{0, \\ldots, n-1\\}$ is packed or not.  \n",
    "Reference: [addVars()](https://www.gurobi.com/documentation/9.0/refman/py_model_addvars.html)"
   ]
  },
  {
   "cell_type": "code",
   "execution_count": 4,
   "metadata": {},
   "outputs": [],
   "source": [
    "x = m.addVars(n, vtype=GRB.BINARY, name='x')"
   ]
  },
  {
   "cell_type": "markdown",
   "metadata": {},
   "source": [
    "Now, before we can start constructing our model, we need to formulate the objective function and the constraints \"on paper\".  \n",
    "We want to maximize the total value of the items in the knapsack. Hence, our objective function can be written as\n",
    "$$max \\sum_{i=1}^np_ix_i$$\n",
    "We will use the efficient function `quicksum()` provided in the `Gurobi` library.<br>\n",
    "Reference: [setObjective()](https://www.gurobi.com/documentation/9.0/refman/py_model_setobjective.html), [quicksum()](https://www.gurobi.com/documentation/9.0/refman/py_quicksum.html)"
   ]
  },
  {
   "cell_type": "code",
   "execution_count": 5,
   "metadata": {},
   "outputs": [],
   "source": [
    "m.setObjective(quicksum(p[i] * x[i] for i in items), GRB.MAXIMIZE)"
   ]
  },
  {
   "cell_type": "markdown",
   "metadata": {},
   "source": [
    "We'll run the model once without adding any constraints to see what happens.  \n",
    "Reference: [update()](https://www.gurobi.com/documentation/9.0/refman/py_model_update.html), [optimize()](https://www.gurobi.com/documentation/9.0/refman/py_model_optimize.html)"
   ]
  },
  {
   "cell_type": "code",
   "execution_count": 6,
   "metadata": {},
   "outputs": [
    {
     "name": "stdout",
     "output_type": "stream",
     "text": [
      "Gurobi Optimizer version 9.0.3 build v9.0.3rc0 (mac64)\n",
      "Optimize a model with 0 rows, 12 columns and 0 nonzeros\n",
      "Model fingerprint: 0xc2c5b825\n",
      "Variable types: 0 continuous, 12 integer (12 binary)\n",
      "Coefficient statistics:\n",
      "  Matrix range     [0e+00, 0e+00]\n",
      "  Objective range  [1e+00, 2e+01]\n",
      "  Bounds range     [1e+00, 1e+00]\n",
      "  RHS range        [0e+00, 0e+00]\n",
      "Found heuristic solution: objective 77.0000000\n",
      "\n",
      "Explored 0 nodes (0 simplex iterations) in 0.00 seconds\n",
      "Thread count was 1 (of 12 available processors)\n",
      "\n",
      "Solution count 1: 77 \n",
      "\n",
      "Optimal solution found (tolerance 1.00e-04)\n",
      "Best objective 7.700000000000e+01, best bound 7.700000000000e+01, gap 0.0000%\n"
     ]
    }
   ],
   "source": [
    "m.update()\n",
    "m.optimize()"
   ]
  },
  {
   "cell_type": "markdown",
   "metadata": {},
   "source": [
    "Using a bit of Python magic, we can print out the optimal objective value and packed items.<br/>\n",
    "Reference: [ObjVal](https://www.gurobi.com/documentation/9.0/refman/objval.html), [Variable Attributes](https://www.gurobi.com/documentation/9.0/refman/variable_attributes.html)"
   ]
  },
  {
   "cell_type": "code",
   "execution_count": 7,
   "metadata": {},
   "outputs": [
    {
     "name": "stdout",
     "output_type": "stream",
     "text": [
      "The total profit is 77.0\n",
      "We packed the items 0, 1, 2, 3, 4, 5, 6, 7, 8, 9, 10\n"
     ]
    }
   ],
   "source": [
    "print('The total profit is', round(m.ObjVal, 2))\n",
    "packed_items = [int(v.varName[2:-1]) for v in m.getVars() if v.x > .5]\n",
    "print('We packed the items', ', '.join([str(i) for i in packed_items]))"
   ]
  },
  {
   "cell_type": "markdown",
   "metadata": {},
   "source": [
    "As expected, all items have been packed into the knapsack except for the last one, since packing the last item would decrease the total profit.  \n",
    "We can visualize the current optimal solution. We will define a helper function `draw_knapsack()`, which we are going to reuse later. This function will draw the current contents of the knapsack for us. The packed items will be labeled and the knapsack capacity will be marked red."
   ]
  },
  {
   "cell_type": "code",
   "execution_count": 8,
   "metadata": {},
   "outputs": [],
   "source": [
    "def draw_knapsack(title=None):\n",
    "    plt.figure(figsize=(12, 2))\n",
    "    plt.plot((b, b), (0, 1), lw=2, color='r')\n",
    "    current_size = 0\n",
    "    for i in packed_items:    \n",
    "        plt.bar(current_size+a[i]/2, height=1, width=a[i], edgecolor='k', color='#CAEFD1')\n",
    "        plt.text(current_size+a[i]/2, .45, i, ha='center', va='bottom')\n",
    "        current_size += a[i]\n",
    "    plt.yticks([])\n",
    "    plt.autoscale(enable=True, axis='both', tight=True)\n",
    "    plt.xlabel('Total size')\n",
    "    if title:\n",
    "        plt.title(title)\n",
    "    plt.show()"
   ]
  },
  {
   "cell_type": "markdown",
   "metadata": {},
   "source": [
    "Now we call `draw_knapsack()` and see, that our knapsack is overpacked. Obviously, this is the case, because we haven't yet added the capacity constraint to our model."
   ]
  },
  {
   "cell_type": "code",
   "execution_count": 9,
   "metadata": {},
   "outputs": [
    {
     "data": {
      "image/png": "[encoded data removed]",
      "text/plain": [
       "<Figure size 864x144 with 1 Axes>"
      ]
     },
     "metadata": {
      "image/png": {
       "height": 168,
       "width": 687
      },
      "needs_background": "light"
     },
     "output_type": "display_data"
    }
   ],
   "source": [
    "draw_knapsack('Knapsack without capacity constraint')"
   ]
  },
  {
   "cell_type": "markdown",
   "metadata": {},
   "source": [
    "The capacity constraint may be written as\n",
    "$$\\sum_{i=1}^n a_i x_i \\leq b$$\n",
    "Let us add this constraint to our model. We will once again use the `quicksum()` method.  \n",
    "Reference: [addConstr()](https://www.gurobi.com/documentation/9.0/refman/py_model_addconstr.html), [quicksum()](https://www.gurobi.com/documentation/9.0/refman/py_quicksum.html)"
   ]
  },
  {
   "cell_type": "code",
   "execution_count": 10,
   "metadata": {},
   "outputs": [
    {
     "data": {
      "text/plain": [
       "<gurobi.Constr *Awaiting Model Update*>"
      ]
     },
     "execution_count": 10,
     "metadata": {},
     "output_type": "execute_result"
    }
   ],
   "source": [
    "m.addConstr(quicksum(a[i] * x[i] for i in items) <= b)"
   ]
  },
  {
   "cell_type": "markdown",
   "metadata": {},
   "source": [
    "Update the model to process the pending modifications (added variables and constraints) and run the optimization.<br/>\n",
    "Reference: [update()](https://www.gurobi.com/documentation/9.0/refman/py_model_update.html), [optimize()](https://www.gurobi.com/documentation/9.0/refman/py_model_optimize.html)"
   ]
  },
  {
   "cell_type": "code",
   "execution_count": 11,
   "metadata": {},
   "outputs": [
    {
     "name": "stdout",
     "output_type": "stream",
     "text": [
      "Gurobi Optimizer version 9.0.3 build v9.0.3rc0 (mac64)\n",
      "Optimize a model with 1 rows, 12 columns and 12 nonzeros\n",
      "Model fingerprint: 0x472fd294\n",
      "Variable types: 0 continuous, 12 integer (12 binary)\n",
      "Coefficient statistics:\n",
      "  Matrix range     [1e+00, 1e+01]\n",
      "  Objective range  [1e+00, 2e+01]\n",
      "  Bounds range     [1e+00, 1e+00]\n",
      "  RHS range        [4e+01, 4e+01]\n",
      "\n",
      "MIP start from previous solve did not produce a new incumbent solution\n",
      "MIP start from previous solve violates constraint R0 by 17.000000000\n",
      "\n",
      "Found heuristic solution: objective 47.0000000\n",
      "Presolve removed 1 rows and 12 columns\n",
      "Presolve time: 0.00s\n",
      "Presolve: All rows and columns removed\n",
      "\n",
      "Explored 0 nodes (0 simplex iterations) in 0.01 seconds\n",
      "Thread count was 1 (of 12 available processors)\n",
      "\n",
      "Solution count 2: 61 \n",
      "\n",
      "Optimal solution found (tolerance 1.00e-04)\n",
      "Best objective 6.100000000000e+01, best bound 6.100000000000e+01, gap 0.0000%\n"
     ]
    }
   ],
   "source": [
    "m.update()\n",
    "m.optimize()"
   ]
  },
  {
   "cell_type": "markdown",
   "metadata": {},
   "source": [
    "Let us retrieve the new optimal objective value as well as the packed items. Note that fewer items have been packed and the optimum is lower.<br/>\n",
    "Reference: [ObjVal](https://www.gurobi.com/documentation/9.0/refman/objval.html), [Variable Attributes](https://www.gurobi.com/documentation/9.0/refman/variable_attributes.html)"
   ]
  },
  {
   "cell_type": "code",
   "execution_count": 12,
   "metadata": {},
   "outputs": [
    {
     "name": "stdout",
     "output_type": "stream",
     "text": [
      "The total profit is 61.0\n",
      "We packed the items 3, 4, 6, 7, 8, 10\n"
     ]
    }
   ],
   "source": [
    "print('The total profit is', round(m.ObjVal, 2))\n",
    "packed_items = [int(v.varName[2:-1]) for v in m.getVars() if v.x > .5]\n",
    "print('We packed the items', ', '.join([str(i) for i in packed_items]))"
   ]
  },
  {
   "cell_type": "markdown",
   "metadata": {},
   "source": [
    "Take a look at the knapsack."
   ]
  },
  {
   "cell_type": "code",
   "execution_count": 13,
   "metadata": {},
   "outputs": [
    {
     "data": {
      "image/png": "[encoded data removed]",
      "text/plain": [
       "<Figure size 864x144 with 1 Axes>"
      ]
     },
     "metadata": {
      "image/png": {
       "height": 168,
       "width": 693
      },
      "needs_background": "light"
     },
     "output_type": "display_data"
    }
   ],
   "source": [
    "draw_knapsack('Knapsack with capacity constraint')"
   ]
  },
  {
   "cell_type": "markdown",
   "metadata": {},
   "source": [
    "We can also manually check the solution (which we usually don't have to)."
   ]
  },
  {
   "cell_type": "code",
   "execution_count": 14,
   "metadata": {},
   "outputs": [
    {
     "name": "stdout",
     "output_type": "stream",
     "text": [
      "Item 3 | Size: 2 | Profit: 5\n",
      "Item 4 | Size: 3 | Profit: 5\n",
      "Item 6 | Size: 9 | Profit: 12\n",
      "Item 7 | Size: 12 | Profit: 20\n",
      "Item 8 | Size: 5 | Profit: 9\n",
      "Item 10 | Size: 8 | Profit: 10\n",
      "Total size: 39\n",
      "Total profit: 61\n"
     ]
    }
   ],
   "source": [
    "for i in packed_items:\n",
    "    print(f'Item {i} | Size: {a[i]} | Profit: {p[i]}')\n",
    "\n",
    "total_size = sum(a[i] for i in packed_items)\n",
    "total_profit = sum(p[i] for i in packed_items)\n",
    "assert total_size <= b, 'The knapsack is overpacked'\n",
    "assert total_profit == m.ObjVal, 'The objective value is wrong'\n",
    "\n",
    "print('Total size:', total_size)\n",
    "print('Total profit:', total_profit)"
   ]
  },
  {
   "cell_type": "markdown",
   "metadata": {},
   "source": [
    "We see (both visually and arithmetically) that all packed items indeed fit into the knapsack, and the objective value is correct. Yay!"
   ]
  },
  {
   "cell_type": "markdown",
   "metadata": {},
   "source": [
    "## Complications"
   ]
  },
  {
   "cell_type": "markdown",
   "metadata": {},
   "source": [
    "Now, let us add a couple more constraints and see how the contents of the knapsack change."
   ]
  },
  {
   "cell_type": "markdown",
   "metadata": {},
   "source": [
    "*Additional constraints*: Say, we do not want to bother with small items anymore and decide to only pack items that are larger than 3. We can implement these constraints by explicitly setting the variable $x_i$ to 0 for all items $i \\in \\{0, \\ldots, n-1\\}$ that have a size of at most 3.  \n",
    "Reference: [addConstrs()](https://www.gurobi.com/documentation/9.0/refman/py_model_addconstrs.html)"
   ]
  },
  {
   "cell_type": "code",
   "execution_count": 15,
   "metadata": {},
   "outputs": [
    {
     "data": {
      "text/plain": [
       "{0: <gurobi.Constr *Awaiting Model Update*>,\n",
       " 2: <gurobi.Constr *Awaiting Model Update*>,\n",
       " 3: <gurobi.Constr *Awaiting Model Update*>,\n",
       " 4: <gurobi.Constr *Awaiting Model Update*>,\n",
       " 5: <gurobi.Constr *Awaiting Model Update*>,\n",
       " 9: <gurobi.Constr *Awaiting Model Update*>,\n",
       " 11: <gurobi.Constr *Awaiting Model Update*>}"
      ]
     },
     "execution_count": 15,
     "metadata": {},
     "output_type": "execute_result"
    }
   ],
   "source": [
    "m.addConstrs(x[i] == 0 for i in items if a[i] <= 3)"
   ]
  },
  {
   "cell_type": "code",
   "execution_count": 16,
   "metadata": {},
   "outputs": [
    {
     "name": "stdout",
     "output_type": "stream",
     "text": [
      "Gurobi Optimizer version 9.0.3 build v9.0.3rc0 (mac64)\n",
      "Optimize a model with 8 rows, 12 columns and 19 nonzeros\n",
      "Model fingerprint: 0x2c7ae462\n",
      "Variable types: 0 continuous, 12 integer (12 binary)\n",
      "Coefficient statistics:\n",
      "  Matrix range     [1e+00, 1e+01]\n",
      "  Objective range  [1e+00, 2e+01]\n",
      "  Bounds range     [1e+00, 1e+00]\n",
      "  RHS range        [4e+01, 4e+01]\n",
      "\n",
      "MIP start from previous solve did not produce a new incumbent solution\n",
      "MIP start from previous solve violates constraint R3 by 1.000000000\n",
      "\n",
      "Found heuristic solution: objective 56.0000000\n",
      "Presolve removed 8 rows and 12 columns\n",
      "Presolve time: 0.00s\n",
      "Presolve: All rows and columns removed\n",
      "\n",
      "Explored 0 nodes (0 simplex iterations) in 0.01 seconds\n",
      "Thread count was 1 (of 12 available processors)\n",
      "\n",
      "Solution count 1: 56 \n",
      "\n",
      "Optimal solution found (tolerance 1.00e-04)\n",
      "Best objective 5.600000000000e+01, best bound 5.600000000000e+01, gap 0.0000%\n"
     ]
    }
   ],
   "source": [
    "m.update()\n",
    "m.optimize()"
   ]
  },
  {
   "cell_type": "code",
   "execution_count": 17,
   "metadata": {},
   "outputs": [
    {
     "name": "stdout",
     "output_type": "stream",
     "text": [
      "The total profit value is 56.0\n",
      "We packed the items 1, 6, 7, 8, 10\n"
     ]
    },
    {
     "data": {
      "image/png": "[encoded data removed]",
      "text/plain": [
       "<Figure size 864x144 with 1 Axes>"
      ]
     },
     "metadata": {
      "image/png": {
       "height": 153,
       "width": 693
      },
      "needs_background": "light"
     },
     "output_type": "display_data"
    }
   ],
   "source": [
    "print('The total profit value is', round(m.ObjVal, 2))\n",
    "packed_items = [int(v.varName[2:-1]) for v in m.getVars() if v.x > .5]\n",
    "print('We packed the items', ', '.join([str(i) for i in packed_items]))\n",
    "draw_knapsack()"
   ]
  },
  {
   "cell_type": "markdown",
   "metadata": {},
   "source": [
    "Note that the two smaller items 3 and 4 have been replaced by one larger (actually larger than items 3 and 4 combined) but less valuable item 1. The total profit has dropped accordingly."
   ]
  },
  {
   "cell_type": "markdown",
   "metadata": {},
   "source": [
    "We will add two more constraints.  \n",
    "*Additional constraints*: The items 6 and 10 may not be packed at the same time. Also, the item 1 may only be packed if the item 2 is present."
   ]
  },
  {
   "cell_type": "code",
   "execution_count": 18,
   "metadata": {},
   "outputs": [
    {
     "data": {
      "text/plain": [
       "<gurobi.Constr *Awaiting Model Update*>"
      ]
     },
     "execution_count": 18,
     "metadata": {},
     "output_type": "execute_result"
    }
   ],
   "source": [
    "m.addConstr(x[6] + x[10] <= 1)\n",
    "m.addConstr(x[2] >= x[1])"
   ]
  },
  {
   "cell_type": "code",
   "execution_count": 19,
   "metadata": {},
   "outputs": [
    {
     "name": "stdout",
     "output_type": "stream",
     "text": [
      "Gurobi Optimizer version 9.0.3 build v9.0.3rc0 (mac64)\n",
      "Optimize a model with 10 rows, 12 columns and 23 nonzeros\n",
      "Model fingerprint: 0x638fc728\n",
      "Variable types: 0 continuous, 12 integer (12 binary)\n",
      "Coefficient statistics:\n",
      "  Matrix range     [1e+00, 1e+01]\n",
      "  Objective range  [1e+00, 2e+01]\n",
      "  Bounds range     [1e+00, 1e+00]\n",
      "  RHS range        [1e+00, 4e+01]\n",
      "\n",
      "MIP start from previous solve did not produce a new incumbent solution\n",
      "MIP start from previous solve violates constraint R8 by 1.000000000\n",
      "\n",
      "Found heuristic solution: objective 41.0000000\n",
      "Presolve removed 10 rows and 12 columns\n",
      "Presolve time: 0.00s\n",
      "Presolve: All rows and columns removed\n",
      "\n",
      "Explored 0 nodes (0 simplex iterations) in 0.01 seconds\n",
      "Thread count was 1 (of 12 available processors)\n",
      "\n",
      "Solution count 1: 41 \n",
      "\n",
      "Optimal solution found (tolerance 1.00e-04)\n",
      "Best objective 4.100000000000e+01, best bound 4.100000000000e+01, gap 0.0000%\n"
     ]
    }
   ],
   "source": [
    "m.update()\n",
    "m.optimize()"
   ]
  },
  {
   "cell_type": "code",
   "execution_count": 20,
   "metadata": {},
   "outputs": [
    {
     "name": "stdout",
     "output_type": "stream",
     "text": [
      "The total profit is 41.0\n",
      "We packed the items 6, 7, 8\n"
     ]
    },
    {
     "data": {
      "image/png": "[encoded data removed]",
      "text/plain": [
       "<Figure size 864x144 with 1 Axes>"
      ]
     },
     "metadata": {
      "image/png": {
       "height": 153,
       "width": 693
      },
      "needs_background": "light"
     },
     "output_type": "display_data"
    }
   ],
   "source": [
    "print('The total profit is', round(m.ObjVal, 2))\n",
    "packed_items = [int(v.varName[2:-1]) for v in m.getVars() if v.x > .5]\n",
    "print('We packed the items', ', '.join([str(i) for i in packed_items]))\n",
    "draw_knapsack()"
   ]
  },
  {
   "cell_type": "markdown",
   "metadata": {},
   "source": [
    "Both items 1 and 10 are no longer in the knapsack. Why?  \n",
    "\n",
    "The item 1 has been \"taken out\" because, according to the recently added constraint (the second one), it may only be packed together with the item 2. The item 2 is not larger than 3, therefore it may not be packed (remember the constraints added previously). Hence, the item 1 may not be packed as well. \n",
    "\n",
    "The item 10 has not been packed because of the first constraint that we have added in the last step: either the item 6 or the item 10 may be packed, but not both. Since the item 6 (profit 9) is more valuable than the item 10 (profit 8), the item 6 stayed in the knapsack, while the item 10 has been removed.\n",
    "\n",
    "One question you may be asking yourself: \"Why weren't any new items added to the knapsack? There is plenty of space...\"  \n",
    "Indeed, why?  \n",
    "Because all other items are not larger than 3, or, as it is the case with the item 11 which has negative profit, are detrimental to our objective."
   ]
  },
  {
   "cell_type": "markdown",
   "metadata": {},
   "source": [
    "## Conclusion"
   ]
  },
  {
   "cell_type": "markdown",
   "metadata": {},
   "source": [
    "In this notebook you have modeled the 0-1 knapsack problem in its classical formulation, as well as added a couple constraints that further restricted the feasible region.  \n",
    "You have also used visualization tools to better understand the effects of added constraints.\n",
    "\n",
    "We hope you've learned something today. See you next time!"
   ]
  }
 ],
 "metadata": {
  "kernelspec": {
   "display_name": "Python 3",
   "language": "python",
   "name": "python3"
  },
  "language_info": {
   "codemirror_mode": {
    "name": "ipython",
    "version": 3
   },
   "file_extension": ".py",
   "mimetype": "text/x-python",
   "name": "python",
   "nbconvert_exporter": "python",
   "pygments_lexer": "ipython3",
   "version": "3.7.0"
  },
  "toc": {
   "base_numbering": 1,
   "nav_menu": {},
   "number_sections": true,
   "sideBar": true,
   "skip_h1_title": false,
   "title_cell": "Table of Contents",
   "title_sidebar": "Contents",
   "toc_cell": false,
   "toc_position": {},
   "toc_section_display": true,
   "toc_window_display": false
  }
 },
 "nbformat": 4,
 "nbformat_minor": 4
}
